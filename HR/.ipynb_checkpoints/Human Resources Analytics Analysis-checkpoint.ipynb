{
 "cells": [
  {
   "cell_type": "code",
   "execution_count": null,
   "metadata": {
    "collapsed": true
   },
   "outputs": [],
   "source": [
    "#Importing the necessarily libraries for data analysis and visualiation\n",
    "import numpy as np\n",
    "import pandas as pd\n",
    "import matplotlib.pyplot as plt\n",
    "import seaborn as sns\n",
    "sns.set(font_scale=1.25)"
   ]
  },
  {
   "cell_type": "markdown",
   "metadata": {},
   "source": [
    "# Data Exploration"
   ]
  },
  {
   "cell_type": "code",
   "execution_count": null,
   "metadata": {},
   "outputs": [],
   "source": [
    "hr_data = pd.read_csv('HR_comma_sep.csv')\n",
    "hr_data.isnull().sum()"
   ]
  },
  {
   "cell_type": "markdown",
   "metadata": {
    "collapsed": true
   },
   "source": [
    "From here we can gather that we are not missing any data for any of the 11 features in the data set. Now let's explore the data in the charts and gather more information."
   ]
  },
  {
   "cell_type": "code",
   "execution_count": null,
   "metadata": {
    "scrolled": false
   },
   "outputs": [],
   "source": [
    "hr_data.head()"
   ]
  },
  {
   "cell_type": "code",
   "execution_count": null,
   "metadata": {},
   "outputs": [],
   "source": [
    "hr_data.tail()"
   ]
  },
  {
   "cell_type": "code",
   "execution_count": null,
   "metadata": {},
   "outputs": [],
   "source": [
    "hr_data.info()"
   ]
  },
  {
   "cell_type": "markdown",
   "metadata": {},
   "source": [
    "Based on the values above, we a can assumed that satisfacation_level and last_evaluation are on a 0-1 scale due to the range of values. One column that I believe may lead to misintepretation is the sales column. The name itself is not intuitive of the data present in that column. Lets change the column names for better readability."
   ]
  },
  {
   "cell_type": "code",
   "execution_count": null,
   "metadata": {
    "collapsed": true
   },
   "outputs": [],
   "source": [
    "names = {'satisfaction_level' : 'satisfaction',\n",
    "         'last_evaluation': 'evaluation',\n",
    "         'number_project': 'projectCount',\n",
    "         'average_montly_hours' : 'averageMonthlyHours',\n",
    "         'time_spend_company' : 'yearsAtCompany',\n",
    "         'Work_accident' : 'accident',\n",
    "         'promotion_last_5years': 'promotion',\n",
    "         'left': 'turnover',\n",
    "         'sales': 'department'}\n",
    "\n",
    "hr_data.rename(columns=names, inplace=True)\n",
    "\n",
    "#Moving the turnover column to the very end\n",
    "cols = list(hr_data)\n",
    "cols.insert(9, cols.pop(cols.index('turnover')))\n",
    "hr_data = hr_data.loc[:, cols]"
   ]
  },
  {
   "cell_type": "code",
   "execution_count": null,
   "metadata": {},
   "outputs": [],
   "source": [
    "hr_data.head()"
   ]
  },
  {
   "cell_type": "markdown",
   "metadata": {},
   "source": [
    "Now that the column names are changed for readiblity and easy access, we can begin to explore the data."
   ]
  },
  {
   "cell_type": "code",
   "execution_count": null,
   "metadata": {},
   "outputs": [],
   "source": [
    "turnoverStats = hr_data['turnover'].value_counts() / 14999\n",
    "turnoverStats"
   ]
  },
  {
   "cell_type": "markdown",
   "metadata": {},
   "source": [
    "Approximately 24% of the employees in the dataset have left the company. The question we want to answer is what are the factors that led to the turnover of these employees."
   ]
  },
  {
   "cell_type": "code",
   "execution_count": null,
   "metadata": {},
   "outputs": [],
   "source": [
    "corrmat = hr_data.corr()\n",
    "\n",
    "sns.heatmap(corrmat)\n",
    "sns.plt.title('Heatmap of Correlation Matrix')\n",
    "plt.show()"
   ]
  },
  {
   "cell_type": "markdown",
   "metadata": {},
   "source": [
    "Plotting a heatmap shows how the features in the dataset are related to each other. As expected, satisfaction and turnover are indirectly proportional to each other. If an employee is satisfied with their job, they are less likely to leave their current positon. We can also see that, those with higher a higher amount of projects, have a higher number of hours and evaluations. Let's investigate the distributions of satisfaction, evaluation, and monthly hours.\n"
   ]
  },
  {
   "cell_type": "code",
   "execution_count": null,
   "metadata": {},
   "outputs": [],
   "source": [
    "fig, (ax1, ax2, ax3) = plt.subplots(ncols=3, figsize=(15,6))\n",
    "sns.distplot(hr_data['satisfaction'], kde=False, color='r', ax=ax1).set_title('Satisfaction Distribution')\n",
    "sns.distplot(hr_data['evaluation'], kde=False, color='m', ax=ax2).set_title('Evaluation Distribution')\n",
    "sns.distplot(hr_data['averageMonthlyHours'], kde=False, color='b', ax=ax3).set_title('Monthly Hours Distribution')\n",
    "plt.show()"
   ]
  },
  {
   "cell_type": "markdown",
   "metadata": {},
   "source": [
    "A large amount of employees are very unsatisfied with their current position as well as there are two spikes in evaluations. We know for a fact that unsatisfied employees leave. One question to explore is what influences an employees satisfaction in this company. First, lets take a look at how satisfaction varies per years at the company."
   ]
  },
  {
   "cell_type": "markdown",
   "metadata": {},
   "source": [
    "# Satisfaction vs Years"
   ]
  },
  {
   "cell_type": "code",
   "execution_count": null,
   "metadata": {},
   "outputs": [],
   "source": [
    "sns.boxplot(x='yearsAtCompany', y='satisfaction', hue='turnover', data=hr_data)\n",
    "plt.show()"
   ]
  },
  {
   "cell_type": "markdown",
   "metadata": {},
   "source": [
    "For the first 2-3 years satisfaction remains relatively constant throughout the years for employees who did not leave, however it varies across those who turnover. What is distinctive is that, those employees who have been with the company 5-6 years and are satisfied with their position are leaving, and no employee who has been with the company longer than 7 years has left."
   ]
  },
  {
   "cell_type": "markdown",
   "metadata": {},
   "source": [
    "# Project Count vs Monthly hours and Evaluation"
   ]
  },
  {
   "cell_type": "code",
   "execution_count": null,
   "metadata": {},
   "outputs": [],
   "source": [
    "fig, (ax1, ax2) = plt.subplots(ncols=2, figsize=(15,6))\n",
    "sns.boxplot(x='projectCount', y='averageMonthlyHours', hue='turnover', data=hr_data, ax=ax1).set_title(\n",
    "    'Project Count vs Monthly Hours Distribution')\n",
    "sns.boxplot(x='projectCount', y='evaluation', hue='turnover', data=hr_data, ax=ax2).set_title(\n",
    "    'Project Count vs Evaluation Distribution')\n",
    "plt.show()"
   ]
  },
  {
   "cell_type": "markdown",
   "metadata": {},
   "source": [
    "What strikes me as interesting is that those employees who stayed their average monthly hours and evalutions stayed approximately the same as their number of projects increased. This is unlike those who left where all three features increased with each other. We can conclude that the good employees are leaving, as those with the highest evalutions and projects are leaving. These are the employees the company should strive to persuade to stay. "
   ]
  },
  {
   "cell_type": "markdown",
   "metadata": {},
   "source": [
    "# Density Distribution of Monthly Hours"
   ]
  },
  {
   "cell_type": "code",
   "execution_count": null,
   "metadata": {
    "scrolled": false
   },
   "outputs": [],
   "source": [
    "fig = plt.figure(figsize=(10,6))\n",
    "ax = sns.kdeplot(hr_data.loc[(hr_data['turnover'] == 0), 'averageMonthlyHours'], shade=True, label= 'no turnover')\n",
    "ax = sns.kdeplot(hr_data.loc[(hr_data['turnover'] == 1), 'averageMonthlyHours'], shade=True, label= 'turnover')\n",
    "plt.title('Density Distribution of Average Monthly Hours, (Turnover vs No Turnover)')\n",
    "plt.show()"
   ]
  },
  {
   "cell_type": "markdown",
   "metadata": {},
   "source": [
    "Assuming that each person works 40 hours per week, and there are 4 weeks in a month. The average monthly hours should be in the range of 160hrs/month. The distribution of those the hours of the employees who did not turnover, were fairly constant throughout. However we can notice that there are two peaks of those who did turnover. This could suggest that some employees are being overworked, and some are not working much at all."
   ]
  },
  {
   "cell_type": "markdown",
   "metadata": {},
   "source": [
    "# Evaluation vs Satisfaction"
   ]
  },
  {
   "cell_type": "code",
   "execution_count": null,
   "metadata": {
    "scrolled": true
   },
   "outputs": [],
   "source": [
    "sns.lmplot(x='evaluation', y='satisfaction', data=hr_data, hue='turnover', fit_reg=False)\n",
    "plt.title('Evaluation vs Satisfaction')\n",
    "plt.show()\n"
   ]
  },
  {
   "cell_type": "markdown",
   "metadata": {},
   "source": [
    "Three clusters seem to be forming from the employees who left in this plot.\n",
    "Cluster 1) Evaluation of approximately 0.42-0.55 and Satisfaction of approximately 0.38-0.48\n",
    "           These are the employees that are bad and sad at their company. Could these employees of left because they felt underworked or felt as if the evaluation negatively impacked their work performance?\n",
    "Cluster 2) Evaluation of approximately 0.75-0.98 and Satisfaction of approximatley 0-0.1\n",
    "           These are the employees who are excel with their job, but are sad. What is the causation of this unsatisfaction? Are they overworked? Are the hours too long for them?\n",
    "Cluster 3) Evaluation of approximately 0.8-1.0 and Satisfaction of approximately 0.7-.9\n",
    "           This are the employees who are great at their job and happy. This and cluster 2 are the employees the compnay should aim to keep. The question is why did this cluster leave? Could it be the that these employees found a different place to work? For more money possibly?\n",
    "It is evidential that we have the three clusters, let's utilize a clustering algorithm to classify the outliers that are clearly not part of a cluster just by visualization.\n"
   ]
  },
  {
   "cell_type": "markdown",
   "metadata": {},
   "source": [
    "# KMeans Clustering"
   ]
  },
  {
   "cell_type": "code",
   "execution_count": null,
   "metadata": {},
   "outputs": [],
   "source": [
    "from sklearn.cluster import KMeans\n",
    "\n",
    "kmeans = KMeans(n_clusters=3)\n",
    "kmeans.fit(hr_data[hr_data.turnover==1][[\"satisfaction\",\"evaluation\"]])\n",
    "\n",
    "colors = ['green' if c == 0 else 'blue' if c == 2 else 'red' for c in kmeans.labels_]\n",
    "plt.scatter(x='evaluation', y='satisfaction', data=hr_data[hr_data['turnover'] == 1], color = colors)\n",
    "plt.xlabel('evaluation')\n",
    "plt.ylabel('satisfaction')\n",
    "plt.title('Evaluation vs Satisfaction Kmeans Plot')\n",
    "plt.show()\n"
   ]
  },
  {
   "cell_type": "markdown",
   "metadata": {},
   "source": [
    "# Summary"
   ]
  },
  {
   "cell_type": "markdown",
   "metadata": {},
   "source": [
    "In short, we can now understand which groups of employees are leaving the company. Suggestions we can give to the company would be to distribute the work evenly to avoid overworking or underworking their employees, and to give fair evaluations to everyone and not solely those who are working on multiple projects."
   ]
  }
 ],
 "metadata": {
  "kernelspec": {
   "display_name": "Python 2",
   "language": "python",
   "name": "python2"
  },
  "language_info": {
   "codemirror_mode": {
    "name": "ipython",
    "version": 2
   },
   "file_extension": ".py",
   "mimetype": "text/x-python",
   "name": "python",
   "nbconvert_exporter": "python",
   "pygments_lexer": "ipython2",
   "version": "2.7.13"
  }
 },
 "nbformat": 4,
 "nbformat_minor": 2
}
